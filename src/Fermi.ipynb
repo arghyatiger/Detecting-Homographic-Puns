{
 "cells": [
  {
   "cell_type": "markdown",
   "metadata": {},
   "source": [
    "# Fermi's Method for pun detection\n"
   ]
  },
  {
   "cell_type": "code",
   "execution_count": 30,
   "metadata": {},
   "outputs": [],
   "source": [
    "import string\n",
    "import nltk\n",
    "from nltk.corpus import wordnet\n",
    "import torch\n",
    "import torch.nn as nn\n",
    "import torch. optim as optim\n",
    "import torch.nn.functional as F\n",
    "import bcolz\n",
    "import numpy as np\n",
    "import pickle\n",
    "\n",
    "import xml.etree.ElementTree as ET\n",
    "from nltk.corpus import stopwords\n",
    "stopwords = set(stopwords.words('english'))\n",
    "puncts = string.punctuation\n",
    "tree = ET.parse('../data/test/subtask1-homographic-test.xml')"
   ]
  },
  {
   "cell_type": "markdown",
   "metadata": {},
   "source": [
    "# Prepare Dataset"
   ]
  },
  {
   "cell_type": "code",
   "execution_count": 9,
   "metadata": {},
   "outputs": [],
   "source": [
    "def make_dataset():\n",
    "    F = open(\"../data/test/subtask1-homographic-test.gold\")\n",
    "    scores = list()\n",
    "    sents = list()\n",
    "    root = tree.getroot()\n",
    "    for item in F.readlines():\n",
    "        ans = item.split()[1]\n",
    "        scores.append(ans)\n",
    "    for text in root.getchildren():\n",
    "        sent = list()\n",
    "        for word in text.getchildren():\n",
    "            sent.append(word.text)\n",
    "        sents.append(sent)\n",
    "    return sents, scores\n",
    "\n",
    "sentences, scores = make_dataset()"
   ]
  },
  {
   "cell_type": "code",
   "execution_count": 11,
   "metadata": {},
   "outputs": [],
   "source": [
    "count = 0\n",
    "train_sent = list()\n",
    "train_score = list()\n",
    "test_sent = list()\n",
    "test_score = list()\n",
    "\n",
    "for index, sentence in enumerate(sentences):\n",
    "    if((index + 1) / 2250 < 0.8): # 80-20 split for training and testing\n",
    "        train_sent.append(sentence)\n",
    "        train_score.append(scores[index])\n",
    "    else:\n",
    "        test_sent.append(sentence)\n",
    "        test_score.append(scores[index])"
   ]
  },
  {
   "cell_type": "code",
   "execution_count": 10,
   "metadata": {},
   "outputs": [],
   "source": [
    "def filter_sent(sent):\n",
    "    sent = [w for w in sent if w.lower() not in stopwords]\n",
    "    sent = [w for w in sent if w[0] not in puncts]\n",
    "    return sent"
   ]
  },
  {
   "cell_type": "code",
   "execution_count": 16,
   "metadata": {},
   "outputs": [],
   "source": [
    "clean_sentences_train = list()\n",
    "for sentence in train_sent:\n",
    "    sentence = filter_sent(sentence)\n",
    "    clean_sentences_train.append(sentence)   "
   ]
  },
  {
   "cell_type": "code",
   "execution_count": 31,
   "metadata": {},
   "outputs": [],
   "source": [
    "words = []\n",
    "idx = 0\n",
    "word2idx = {}\n",
    "vectors = bcolz.carray(np.zeros(1), rootdir=f'../../../temp/glove.6B/glove.6B.50d.dat', mode='w')\n",
    "\n",
    "with open(f'../../../temp/glove.6B/glove.6B.50d.txt', 'rb') as f:\n",
    "    for l in f:\n",
    "        line = l.decode().split()\n",
    "        word = line[0]\n",
    "        words.append(word)\n",
    "        word2idx[word] = idx\n",
    "        idx += 1\n",
    "        vect = np.array(line[1:]).astype(np.float)\n",
    "        vectors.append(vect)\n",
    "    \n",
    "vectors = bcolz.carray(vectors[1:].reshape((400001, 50)), rootdir=f'../../../temp/glove.6B/glove.6B.50d.dat', mode='w')\n",
    "vectors.flush()\n",
    "pickle.dump(words, open(f'../../../temp/glove.6B/6B.50_words.pkl', 'wb'))\n",
    "pickle.dump(word2idx, open(f'../../../temp/glove.6B/6B.50_idx.pkl', 'wb'))"
   ]
  },
  {
   "cell_type": "code",
   "execution_count": 34,
   "metadata": {},
   "outputs": [],
   "source": [
    "vectors = bcolz.open(f'../../../temp/glove.6B/glove.6B.50d.dat/')[:]\n",
    "words = pickle.load(open(f'../../../temp/glove.6B/6B.50_words.pkl', 'rb'))\n",
    "word2idx = pickle.load(open(f'../../../temp/glove.6B/6B.50_idx.pkl', 'rb'))\n",
    "\n",
    "glove = {w: vectors[word2idx[w]] for w in words}"
   ]
  },
  {
   "cell_type": "code",
   "execution_count": 36,
   "metadata": {},
   "outputs": [
    {
     "data": {
      "text/plain": [
       "(50,)"
      ]
     },
     "execution_count": 36,
     "metadata": {},
     "output_type": "execute_result"
    }
   ],
   "source": [
    "glove['the'].shape"
   ]
  },
  {
   "cell_type": "code",
   "execution_count": null,
   "metadata": {},
   "outputs": [],
   "source": [
    "class Encoder(nn.Module):\n",
    "    def __init__(self, hidden_dim, batch_size, n_layers, vocab_size):\n",
    "        super(Encoder).__init__()\n",
    "        self.n_layers = n_layers\n",
    "        self.hidden_dim = hidden_dim\n",
    "        self.batch_size = batch_size\n",
    "        self.vocab_size = vocab_size\n",
    "        \n",
    "        self.embedding = nn.Embedding(self.vocab_size, self.hidden_dim)\n",
    "        self.lstm = nn.LSTMCell(self.batch_size, self.hidden_dim, n_layers, bidirectional=True)\n",
    "        \n",
    "        self.lin = nn.Linear( , 1) # fill\n",
    "        self.sig = nn.Sigmoid()\n",
    "        \n",
    "    def forward(self, inp, hidden):\n",
    "        embed = self.embedding(inp)\n",
    "        op, _ = self.lstm(embed, hidden)\n",
    "        op = (op[:,:,:self.hidden_dim] + op[:,:,self.hidden_dim:]) # bidirectional outputs\n",
    "        op = self.lin(op)\n",
    "        op = self.sig(op)\n",
    "        return op"
   ]
  },
  {
   "cell_type": "code",
   "execution_count": null,
   "metadata": {},
   "outputs": [],
   "source": []
  }
 ],
 "metadata": {
  "kernelspec": {
   "display_name": "Python 3",
   "language": "python",
   "name": "python3"
  },
  "language_info": {
   "codemirror_mode": {
    "name": "ipython",
    "version": 3
   },
   "file_extension": ".py",
   "mimetype": "text/x-python",
   "name": "python",
   "nbconvert_exporter": "python",
   "pygments_lexer": "ipython3",
   "version": "3.6.4"
  }
 },
 "nbformat": 4,
 "nbformat_minor": 2
}
